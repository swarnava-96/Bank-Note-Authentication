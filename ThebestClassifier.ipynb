{
 "cells": [
  {
   "cell_type": "markdown",
   "id": "freelance-injection",
   "metadata": {},
   "source": [
    "# BANK NOTE AUTHENTICATION"
   ]
  },
  {
   "cell_type": "markdown",
   "id": "incoming-summit",
   "metadata": {},
   "source": [
    "### Data Source:\n",
    "\n",
    "Owner of database: Volker Lohweg (University of Applied Sciences, Ostwestfalen-Lippe, volker.lohweg '@' hs-owl.de) \n",
    "Donor of database: Helene DÃ¶rksen (University of Applied Sciences, Ostwestfalen-Lippe, helene.doerksen '@' hs-owl.de) \n",
    "Date received: August, 2012 \n",
    "\n",
    "Dataset Link: https://archive.ics.uci.edu/ml/datasets/banknote+authentication#\n",
    "\n",
    "### Data Set Information:\n",
    "\n",
    "Data were extracted from images that were taken from genuine and forged banknote-like specimens. For digitization, an industrial camera usually used for print inspection was used. The final images have 400x 400 pixels. Due to the object lens and distance to the investigated object gray-scale pictures with a resolution of about 660 dpi were gained. Wavelet Transform tool were used to extract features from images.\n",
    "\n",
    "\n",
    "### Attribute Information:\n",
    "\n",
    "1. variance of Wavelet Transformed image (continuous) \n",
    "2. skewness of Wavelet Transformed image (continuous) \n",
    "3. curtosis of Wavelet Transformed image (continuous) \n",
    "4. entropy of image (continuous) \n",
    "5. class (integer) \n",
    "\n",
    "\n",
    "### Objective:\n",
    "\n",
    "> To classify whether banknote is real or fake using Machine Learning Classification Algorithms with extracted features from images using Wavelet Transform Tool.\n",
    "\n"
   ]
  },
  {
   "cell_type": "code",
   "execution_count": 77,
   "id": "natural-provision",
   "metadata": {},
   "outputs": [
    {
     "name": "stdout",
     "output_type": "stream",
     "text": [
      "Populating the interactive namespace from numpy and matplotlib\n"
     ]
    },
    {
     "name": "stderr",
     "output_type": "stream",
     "text": [
      "c:\\users\\swarnava\\appdata\\local\\programs\\python\\python37\\lib\\site-packages\\IPython\\core\\magics\\pylab.py:160: UserWarning: pylab import has clobbered these variables: ['clf']\n",
      "`%matplotlib` prevents importing * from pylab and numpy\n",
      "  \"\\n`%matplotlib` prevents importing * from pylab and numpy\"\n"
     ]
    }
   ],
   "source": [
    "%pylab inline\n",
    "import pandas as pd\n",
    "from sklearn.model_selection import train_test_split\n",
    "from sklearn.preprocessing import StandardScaler\n",
    "from sklearn.neighbors import KNeighborsClassifier\n",
    "from sklearn.metrics import accuracy_score, silhouette_score,euclidean_distances\n",
    "import seaborn as sns"
   ]
  },
  {
   "cell_type": "markdown",
   "id": "recognized-domain",
   "metadata": {},
   "source": [
    "## Load the dataset to Pandas DataFrame"
   ]
  },
  {
   "cell_type": "code",
   "execution_count": 4,
   "id": "north-bailey",
   "metadata": {},
   "outputs": [],
   "source": [
    "banknote_data=pd.read_csv('BankNote_Authentication.csv')"
   ]
  },
  {
   "cell_type": "code",
   "execution_count": 5,
   "id": "alone-laugh",
   "metadata": {},
   "outputs": [
    {
     "data": {
      "text/html": [
       "<div>\n",
       "<style scoped>\n",
       "    .dataframe tbody tr th:only-of-type {\n",
       "        vertical-align: middle;\n",
       "    }\n",
       "\n",
       "    .dataframe tbody tr th {\n",
       "        vertical-align: top;\n",
       "    }\n",
       "\n",
       "    .dataframe thead th {\n",
       "        text-align: right;\n",
       "    }\n",
       "</style>\n",
       "<table border=\"1\" class=\"dataframe\">\n",
       "  <thead>\n",
       "    <tr style=\"text-align: right;\">\n",
       "      <th></th>\n",
       "      <th>variance</th>\n",
       "      <th>skewness</th>\n",
       "      <th>curtosis</th>\n",
       "      <th>entropy</th>\n",
       "      <th>class</th>\n",
       "    </tr>\n",
       "  </thead>\n",
       "  <tbody>\n",
       "    <tr>\n",
       "      <th>0</th>\n",
       "      <td>3.62160</td>\n",
       "      <td>8.66610</td>\n",
       "      <td>-2.8073</td>\n",
       "      <td>-0.44699</td>\n",
       "      <td>0</td>\n",
       "    </tr>\n",
       "    <tr>\n",
       "      <th>1</th>\n",
       "      <td>4.54590</td>\n",
       "      <td>8.16740</td>\n",
       "      <td>-2.4586</td>\n",
       "      <td>-1.46210</td>\n",
       "      <td>0</td>\n",
       "    </tr>\n",
       "    <tr>\n",
       "      <th>2</th>\n",
       "      <td>3.86600</td>\n",
       "      <td>-2.63830</td>\n",
       "      <td>1.9242</td>\n",
       "      <td>0.10645</td>\n",
       "      <td>0</td>\n",
       "    </tr>\n",
       "    <tr>\n",
       "      <th>3</th>\n",
       "      <td>3.45660</td>\n",
       "      <td>9.52280</td>\n",
       "      <td>-4.0112</td>\n",
       "      <td>-3.59440</td>\n",
       "      <td>0</td>\n",
       "    </tr>\n",
       "    <tr>\n",
       "      <th>4</th>\n",
       "      <td>0.32924</td>\n",
       "      <td>-4.45520</td>\n",
       "      <td>4.5718</td>\n",
       "      <td>-0.98880</td>\n",
       "      <td>0</td>\n",
       "    </tr>\n",
       "    <tr>\n",
       "      <th>...</th>\n",
       "      <td>...</td>\n",
       "      <td>...</td>\n",
       "      <td>...</td>\n",
       "      <td>...</td>\n",
       "      <td>...</td>\n",
       "    </tr>\n",
       "    <tr>\n",
       "      <th>1367</th>\n",
       "      <td>0.40614</td>\n",
       "      <td>1.34920</td>\n",
       "      <td>-1.4501</td>\n",
       "      <td>-0.55949</td>\n",
       "      <td>1</td>\n",
       "    </tr>\n",
       "    <tr>\n",
       "      <th>1368</th>\n",
       "      <td>-1.38870</td>\n",
       "      <td>-4.87730</td>\n",
       "      <td>6.4774</td>\n",
       "      <td>0.34179</td>\n",
       "      <td>1</td>\n",
       "    </tr>\n",
       "    <tr>\n",
       "      <th>1369</th>\n",
       "      <td>-3.75030</td>\n",
       "      <td>-13.45860</td>\n",
       "      <td>17.5932</td>\n",
       "      <td>-2.77710</td>\n",
       "      <td>1</td>\n",
       "    </tr>\n",
       "    <tr>\n",
       "      <th>1370</th>\n",
       "      <td>-3.56370</td>\n",
       "      <td>-8.38270</td>\n",
       "      <td>12.3930</td>\n",
       "      <td>-1.28230</td>\n",
       "      <td>1</td>\n",
       "    </tr>\n",
       "    <tr>\n",
       "      <th>1371</th>\n",
       "      <td>-2.54190</td>\n",
       "      <td>-0.65804</td>\n",
       "      <td>2.6842</td>\n",
       "      <td>1.19520</td>\n",
       "      <td>1</td>\n",
       "    </tr>\n",
       "  </tbody>\n",
       "</table>\n",
       "<p>1372 rows × 5 columns</p>\n",
       "</div>"
      ],
      "text/plain": [
       "      variance  skewness  curtosis  entropy  class\n",
       "0      3.62160   8.66610   -2.8073 -0.44699      0\n",
       "1      4.54590   8.16740   -2.4586 -1.46210      0\n",
       "2      3.86600  -2.63830    1.9242  0.10645      0\n",
       "3      3.45660   9.52280   -4.0112 -3.59440      0\n",
       "4      0.32924  -4.45520    4.5718 -0.98880      0\n",
       "...        ...       ...       ...      ...    ...\n",
       "1367   0.40614   1.34920   -1.4501 -0.55949      1\n",
       "1368  -1.38870  -4.87730    6.4774  0.34179      1\n",
       "1369  -3.75030 -13.45860   17.5932 -2.77710      1\n",
       "1370  -3.56370  -8.38270   12.3930 -1.28230      1\n",
       "1371  -2.54190  -0.65804    2.6842  1.19520      1\n",
       "\n",
       "[1372 rows x 5 columns]"
      ]
     },
     "execution_count": 5,
     "metadata": {},
     "output_type": "execute_result"
    }
   ],
   "source": [
    "banknote_data"
   ]
  },
  {
   "cell_type": "markdown",
   "id": "dutch-index",
   "metadata": {},
   "source": [
    "## Descriptive Statistics"
   ]
  },
  {
   "cell_type": "code",
   "execution_count": 6,
   "id": "functioning-acrylic",
   "metadata": {},
   "outputs": [
    {
     "data": {
      "text/html": [
       "<div>\n",
       "<style scoped>\n",
       "    .dataframe tbody tr th:only-of-type {\n",
       "        vertical-align: middle;\n",
       "    }\n",
       "\n",
       "    .dataframe tbody tr th {\n",
       "        vertical-align: top;\n",
       "    }\n",
       "\n",
       "    .dataframe thead th {\n",
       "        text-align: right;\n",
       "    }\n",
       "</style>\n",
       "<table border=\"1\" class=\"dataframe\">\n",
       "  <thead>\n",
       "    <tr style=\"text-align: right;\">\n",
       "      <th></th>\n",
       "      <th>variance</th>\n",
       "      <th>skewness</th>\n",
       "      <th>curtosis</th>\n",
       "      <th>entropy</th>\n",
       "      <th>class</th>\n",
       "    </tr>\n",
       "  </thead>\n",
       "  <tbody>\n",
       "    <tr>\n",
       "      <th>count</th>\n",
       "      <td>1372.000000</td>\n",
       "      <td>1372.000000</td>\n",
       "      <td>1372.000000</td>\n",
       "      <td>1372.000000</td>\n",
       "      <td>1372.000000</td>\n",
       "    </tr>\n",
       "    <tr>\n",
       "      <th>mean</th>\n",
       "      <td>0.433735</td>\n",
       "      <td>1.922353</td>\n",
       "      <td>1.397627</td>\n",
       "      <td>-1.191657</td>\n",
       "      <td>0.444606</td>\n",
       "    </tr>\n",
       "    <tr>\n",
       "      <th>std</th>\n",
       "      <td>2.842763</td>\n",
       "      <td>5.869047</td>\n",
       "      <td>4.310030</td>\n",
       "      <td>2.101013</td>\n",
       "      <td>0.497103</td>\n",
       "    </tr>\n",
       "    <tr>\n",
       "      <th>min</th>\n",
       "      <td>-7.042100</td>\n",
       "      <td>-13.773100</td>\n",
       "      <td>-5.286100</td>\n",
       "      <td>-8.548200</td>\n",
       "      <td>0.000000</td>\n",
       "    </tr>\n",
       "    <tr>\n",
       "      <th>25%</th>\n",
       "      <td>-1.773000</td>\n",
       "      <td>-1.708200</td>\n",
       "      <td>-1.574975</td>\n",
       "      <td>-2.413450</td>\n",
       "      <td>0.000000</td>\n",
       "    </tr>\n",
       "    <tr>\n",
       "      <th>50%</th>\n",
       "      <td>0.496180</td>\n",
       "      <td>2.319650</td>\n",
       "      <td>0.616630</td>\n",
       "      <td>-0.586650</td>\n",
       "      <td>0.000000</td>\n",
       "    </tr>\n",
       "    <tr>\n",
       "      <th>75%</th>\n",
       "      <td>2.821475</td>\n",
       "      <td>6.814625</td>\n",
       "      <td>3.179250</td>\n",
       "      <td>0.394810</td>\n",
       "      <td>1.000000</td>\n",
       "    </tr>\n",
       "    <tr>\n",
       "      <th>max</th>\n",
       "      <td>6.824800</td>\n",
       "      <td>12.951600</td>\n",
       "      <td>17.927400</td>\n",
       "      <td>2.449500</td>\n",
       "      <td>1.000000</td>\n",
       "    </tr>\n",
       "  </tbody>\n",
       "</table>\n",
       "</div>"
      ],
      "text/plain": [
       "          variance     skewness     curtosis      entropy        class\n",
       "count  1372.000000  1372.000000  1372.000000  1372.000000  1372.000000\n",
       "mean      0.433735     1.922353     1.397627    -1.191657     0.444606\n",
       "std       2.842763     5.869047     4.310030     2.101013     0.497103\n",
       "min      -7.042100   -13.773100    -5.286100    -8.548200     0.000000\n",
       "25%      -1.773000    -1.708200    -1.574975    -2.413450     0.000000\n",
       "50%       0.496180     2.319650     0.616630    -0.586650     0.000000\n",
       "75%       2.821475     6.814625     3.179250     0.394810     1.000000\n",
       "max       6.824800    12.951600    17.927400     2.449500     1.000000"
      ]
     },
     "execution_count": 6,
     "metadata": {},
     "output_type": "execute_result"
    }
   ],
   "source": [
    "banknote_data.describe()"
   ]
  },
  {
   "cell_type": "markdown",
   "id": "multiple-production",
   "metadata": {},
   "source": [
    "## Checking for N/A values in dataset"
   ]
  },
  {
   "cell_type": "code",
   "execution_count": 7,
   "id": "possible-custom",
   "metadata": {},
   "outputs": [
    {
     "name": "stdout",
     "output_type": "stream",
     "text": [
      "<class 'pandas.core.frame.DataFrame'>\n",
      "RangeIndex: 1372 entries, 0 to 1371\n",
      "Data columns (total 5 columns):\n",
      " #   Column    Non-Null Count  Dtype  \n",
      "---  ------    --------------  -----  \n",
      " 0   variance  1372 non-null   float64\n",
      " 1   skewness  1372 non-null   float64\n",
      " 2   curtosis  1372 non-null   float64\n",
      " 3   entropy   1372 non-null   float64\n",
      " 4   class     1372 non-null   int64  \n",
      "dtypes: float64(4), int64(1)\n",
      "memory usage: 53.7 KB\n"
     ]
    }
   ],
   "source": [
    "banknote_data.info()"
   ]
  },
  {
   "cell_type": "code",
   "execution_count": 79,
   "id": "instant-catering",
   "metadata": {},
   "outputs": [
    {
     "name": "stderr",
     "output_type": "stream",
     "text": [
      "c:\\users\\swarnava\\appdata\\local\\programs\\python\\python37\\lib\\site-packages\\seaborn\\_decorators.py:43: FutureWarning: Pass the following variable as a keyword arg: x. From version 0.12, the only valid positional argument will be `data`, and passing other arguments without an explicit keyword will result in an error or misinterpretation.\n",
      "  FutureWarning\n"
     ]
    },
    {
     "data": {
      "image/png": "[encoded data removed]",
      "text/plain": [
       "<Figure size 432x288 with 1 Axes>"
      ]
     },
     "metadata": {
      "needs_background": "light"
     },
     "output_type": "display_data"
    }
   ],
   "source": [
    "sns.countplot(banknote_data.values[:,-1]);"
   ]
  },
  {
   "cell_type": "markdown",
   "id": "authentic-henry",
   "metadata": {},
   "source": [
    "Around 44% banknotes are real in the dataset.\n",
    "\n"
   ]
  },
  {
   "cell_type": "markdown",
   "id": "characteristic-template",
   "metadata": {},
   "source": [
    "## Import the data"
   ]
  },
  {
   "cell_type": "code",
   "execution_count": 10,
   "id": "interstate-clarity",
   "metadata": {},
   "outputs": [],
   "source": [
    "X = banknote_data.values[:,:-1]\n",
    "y = banknote_data.values[:,-1]"
   ]
  },
  {
   "cell_type": "code",
   "execution_count": 11,
   "id": "excessive-jimmy",
   "metadata": {},
   "outputs": [
    {
     "data": {
      "text/html": [
       "<div>\n",
       "<style scoped>\n",
       "    .dataframe tbody tr th:only-of-type {\n",
       "        vertical-align: middle;\n",
       "    }\n",
       "\n",
       "    .dataframe tbody tr th {\n",
       "        vertical-align: top;\n",
       "    }\n",
       "\n",
       "    .dataframe thead th {\n",
       "        text-align: right;\n",
       "    }\n",
       "</style>\n",
       "<table border=\"1\" class=\"dataframe\">\n",
       "  <thead>\n",
       "    <tr style=\"text-align: right;\">\n",
       "      <th></th>\n",
       "      <th>variance</th>\n",
       "      <th>skewness</th>\n",
       "      <th>curtosis</th>\n",
       "      <th>entropy</th>\n",
       "      <th>class</th>\n",
       "    </tr>\n",
       "  </thead>\n",
       "  <tbody>\n",
       "    <tr>\n",
       "      <th>variance</th>\n",
       "      <td>1.000000</td>\n",
       "      <td>0.264026</td>\n",
       "      <td>-0.380850</td>\n",
       "      <td>0.276817</td>\n",
       "      <td>-0.724843</td>\n",
       "    </tr>\n",
       "    <tr>\n",
       "      <th>skewness</th>\n",
       "      <td>0.264026</td>\n",
       "      <td>1.000000</td>\n",
       "      <td>-0.786895</td>\n",
       "      <td>-0.526321</td>\n",
       "      <td>-0.444688</td>\n",
       "    </tr>\n",
       "    <tr>\n",
       "      <th>curtosis</th>\n",
       "      <td>-0.380850</td>\n",
       "      <td>-0.786895</td>\n",
       "      <td>1.000000</td>\n",
       "      <td>0.318841</td>\n",
       "      <td>0.155883</td>\n",
       "    </tr>\n",
       "    <tr>\n",
       "      <th>entropy</th>\n",
       "      <td>0.276817</td>\n",
       "      <td>-0.526321</td>\n",
       "      <td>0.318841</td>\n",
       "      <td>1.000000</td>\n",
       "      <td>-0.023424</td>\n",
       "    </tr>\n",
       "    <tr>\n",
       "      <th>class</th>\n",
       "      <td>-0.724843</td>\n",
       "      <td>-0.444688</td>\n",
       "      <td>0.155883</td>\n",
       "      <td>-0.023424</td>\n",
       "      <td>1.000000</td>\n",
       "    </tr>\n",
       "  </tbody>\n",
       "</table>\n",
       "</div>"
      ],
      "text/plain": [
       "          variance  skewness  curtosis   entropy     class\n",
       "variance  1.000000  0.264026 -0.380850  0.276817 -0.724843\n",
       "skewness  0.264026  1.000000 -0.786895 -0.526321 -0.444688\n",
       "curtosis -0.380850 -0.786895  1.000000  0.318841  0.155883\n",
       "entropy   0.276817 -0.526321  0.318841  1.000000 -0.023424\n",
       "class    -0.724843 -0.444688  0.155883 -0.023424  1.000000"
      ]
     },
     "execution_count": 11,
     "metadata": {},
     "output_type": "execute_result"
    }
   ],
   "source": [
    "banknote_data.corr()"
   ]
  },
  {
   "cell_type": "markdown",
   "id": "complex-presentation",
   "metadata": {},
   "source": [
    "# CLASSIFICATION"
   ]
  },
  {
   "cell_type": "markdown",
   "id": "baking-extra",
   "metadata": {},
   "source": [
    "## Scaling the data"
   ]
  },
  {
   "cell_type": "code",
   "execution_count": 13,
   "id": "former-sleep",
   "metadata": {},
   "outputs": [],
   "source": [
    "ss = StandardScaler()\n",
    "X_scaled = ss.fit_transform(X)"
   ]
  },
  {
   "cell_type": "markdown",
   "id": "manufactured-trash",
   "metadata": {},
   "source": [
    "## train/test split the data"
   ]
  },
  {
   "cell_type": "code",
   "execution_count": 14,
   "id": "spanish-vegetarian",
   "metadata": {},
   "outputs": [],
   "source": [
    "X_train, X_test, y_train, y_test = train_test_split(X_scaled, y, test_size=0.40, random_state=12)"
   ]
  },
  {
   "cell_type": "markdown",
   "id": "amino-channel",
   "metadata": {},
   "source": [
    "## K Nearest Neighbors (KNN)"
   ]
  },
  {
   "cell_type": "markdown",
   "id": "important-voluntary",
   "metadata": {},
   "source": [
    "#### Initially trying with neighbour = 5"
   ]
  },
  {
   "cell_type": "code",
   "execution_count": 15,
   "id": "persistent-extra",
   "metadata": {},
   "outputs": [
    {
     "name": "stdout",
     "output_type": "stream",
     "text": [
      "The training accuracy for K=5 is 0.9963547995139733\n",
      "The testing accuracy for K=5 is 0.9836065573770492\n"
     ]
    }
   ],
   "source": [
    "knn = KNeighborsClassifier(n_neighbors=5)\n",
    "knn.fit(X_train,y_train)\n",
    "y_pred = knn.predict(X_test)\n",
    "print(\"The training accuracy for K=5 is {}\".format(accuracy_score(y_train,knn.predict(X_train))))\n",
    "print(\"The testing accuracy for K=5 is {}\".format(accuracy_score(y_test,y_pred)))"
   ]
  },
  {
   "cell_type": "markdown",
   "id": "particular-liability",
   "metadata": {},
   "source": [
    "## Determining best number of neighbours for KNN"
   ]
  },
  {
   "cell_type": "code",
   "execution_count": 16,
   "id": "special-institute",
   "metadata": {},
   "outputs": [],
   "source": [
    "scores = []\n",
    "k_range = range(1,26)\n",
    "for k in k_range:\n",
    "    knn = KNeighborsClassifier(n_neighbors=k)\n",
    "    knn.fit(X_train,y_train)\n",
    "    y_pred = knn.predict(X_test)\n",
    "    scores.append(accuracy_score(y_test,y_pred))"
   ]
  },
  {
   "cell_type": "code",
   "execution_count": 17,
   "id": "considerable-tenant",
   "metadata": {},
   "outputs": [
    {
     "name": "stdout",
     "output_type": "stream",
     "text": [
      "1 0.9981785063752276\n",
      "2 0.9981785063752276\n",
      "3 0.9981785063752276\n",
      "4 0.9981785063752276\n",
      "5 0.9836065573770492\n",
      "6 0.9854280510018215\n",
      "7 0.9854280510018215\n",
      "8 0.9854280510018215\n",
      "9 0.9854280510018215\n",
      "10 0.9854280510018215\n",
      "11 0.9854280510018215\n",
      "12 0.9854280510018215\n",
      "13 0.9854280510018215\n",
      "14 0.9854280510018215\n",
      "15 0.9854280510018215\n",
      "16 0.9854280510018215\n",
      "17 0.9836065573770492\n",
      "18 0.9854280510018215\n",
      "19 0.9854280510018215\n",
      "20 0.9854280510018215\n",
      "21 0.9836065573770492\n",
      "22 0.9836065573770492\n",
      "23 0.9836065573770492\n",
      "24 0.9854280510018215\n",
      "25 0.9836065573770492\n"
     ]
    }
   ],
   "source": [
    "for i,s in enumerate(scores):\n",
    "    print(i+1,s)"
   ]
  },
  {
   "cell_type": "code",
   "execution_count": 18,
   "id": "valued-pollution",
   "metadata": {},
   "outputs": [
    {
     "data": {
      "image/png": "[encoded data removed]",
      "text/plain": [
       "<Figure size 432x288 with 1 Axes>"
      ]
     },
     "metadata": {
      "needs_background": "light"
     },
     "output_type": "display_data"
    }
   ],
   "source": [
    "plt.plot(k_range,scores)\n",
    "plt.xlabel('Value of K')\n",
    "plt.ylabel('Testing Accuracy');"
   ]
  },
  {
   "cell_type": "markdown",
   "id": "painted-accordance",
   "metadata": {},
   "source": [
    "** From above plot, we find the best number of neighbours are between 1 and 4 because testing accuracy is about 99.81% for this neighbours. But we choose neighbours to be 4 because it is less complex. **"
   ]
  },
  {
   "cell_type": "markdown",
   "id": "designed-doctrine",
   "metadata": {},
   "source": [
    "## Fitting model best value of neighbours"
   ]
  },
  {
   "cell_type": "code",
   "execution_count": 19,
   "id": "generic-valuable",
   "metadata": {},
   "outputs": [
    {
     "name": "stdout",
     "output_type": "stream",
     "text": [
      "The training accuracy for K=4 is 0.9987849331713244\n",
      "The testing accuracy for K=4 is 0.9981785063752276\n"
     ]
    }
   ],
   "source": [
    "knn = KNeighborsClassifier(n_neighbors=4)\n",
    "knn.fit(X_train,y_train)\n",
    "y_pred = knn.predict(X_test)\n",
    "print(\"The training accuracy for K=4 is {}\".format(accuracy_score(y_train,knn.predict(X_train))))\n",
    "print(\"The testing accuracy for K=4 is {}\".format(accuracy_score(y_test,y_pred)))"
   ]
  },
  {
   "cell_type": "code",
   "execution_count": 20,
   "id": "enabling-reminder",
   "metadata": {},
   "outputs": [],
   "source": [
    "from sklearn.metrics import confusion_matrix, roc_curve"
   ]
  },
  {
   "cell_type": "markdown",
   "id": "suitable-evans",
   "metadata": {},
   "source": [
    "## Confusion matrix"
   ]
  },
  {
   "cell_type": "code",
   "execution_count": 21,
   "id": "enclosed-holder",
   "metadata": {},
   "outputs": [
    {
     "data": {
      "text/plain": [
       "array([[300,   1],\n",
       "       [  0, 248]], dtype=int64)"
      ]
     },
     "execution_count": 21,
     "metadata": {},
     "output_type": "execute_result"
    }
   ],
   "source": [
    "confusion_matrix(y_test, y_pred)"
   ]
  },
  {
   "cell_type": "markdown",
   "id": "hungry-newfoundland",
   "metadata": {},
   "source": [
    "## ROC curve"
   ]
  },
  {
   "cell_type": "code",
   "execution_count": 22,
   "id": "objective-telephone",
   "metadata": {},
   "outputs": [
    {
     "name": "stdout",
     "output_type": "stream",
     "text": [
      "[0.         0.         0.00332226 0.02990033 1.        ] [0. 1. 1. 1. 1.]\n"
     ]
    }
   ],
   "source": [
    "threshold = 0.4\n",
    "scores = knn.predict_proba(X_test)[:,1]\n",
    "fpr,tpr, threshold = roc_curve(y_test,scores,pos_label=1)\n",
    "print(fpr,tpr)"
   ]
  },
  {
   "cell_type": "code",
   "execution_count": 23,
   "id": "awful-extent",
   "metadata": {},
   "outputs": [
    {
     "data": {
      "image/png": "[encoded data removed]",
      "text/plain": [
       "<Figure size 648x648 with 1 Axes>"
      ]
     },
     "metadata": {
      "needs_background": "light"
     },
     "output_type": "display_data"
    }
   ],
   "source": [
    "plt.figure(figsize=(9,9))\n",
    "plt.plot(fpr, tpr, label='kNN Classifier')\n",
    "plt.title('ROC curve', size=12)\n",
    "plt.xlabel('False Positive Rate', size=13)\n",
    "plt.ylabel('True Positive Rate', size=13)\n",
    "plt.plot((0, max(tpr)), 'k--', label='Random guess')\n",
    "plt.grid()\n",
    "plt.legend();"
   ]
  },
  {
   "cell_type": "markdown",
   "id": "further-shoulder",
   "metadata": {},
   "source": [
    "** From the above plot, you can see blue line which touches the margin which tells us our model is good **"
   ]
  },
  {
   "cell_type": "markdown",
   "id": "accomplished-fight",
   "metadata": {},
   "source": [
    "# Logistic Regression"
   ]
  },
  {
   "cell_type": "code",
   "execution_count": 24,
   "id": "genetic-fleece",
   "metadata": {},
   "outputs": [],
   "source": [
    "from sklearn.linear_model import LogisticRegression"
   ]
  },
  {
   "cell_type": "code",
   "execution_count": 25,
   "id": "demographic-precipitation",
   "metadata": {},
   "outputs": [],
   "source": [
    "logreg = LogisticRegression()\n",
    "logreg.fit(X_train,y_train)\n",
    "y_pred = logreg.predict(X_test)"
   ]
  },
  {
   "cell_type": "code",
   "execution_count": 26,
   "id": "acknowledged-tamil",
   "metadata": {},
   "outputs": [
    {
     "name": "stdout",
     "output_type": "stream",
     "text": [
      "Accuracy for Training Data is 0.9878493317132442 \n",
      "Accuracy for Testing Data is 0.9726775956284153 \n"
     ]
    }
   ],
   "source": [
    "print(\"Accuracy for Training Data is {} \".format(accuracy_score(y_train,logreg.predict(X_train))))\n",
    "print(\"Accuracy for Testing Data is {} \".format(accuracy_score(y_test,y_pred)))"
   ]
  },
  {
   "cell_type": "markdown",
   "id": "universal-wrist",
   "metadata": {},
   "source": [
    "## Confusion matrix¶"
   ]
  },
  {
   "cell_type": "code",
   "execution_count": 27,
   "id": "useful-guatemala",
   "metadata": {},
   "outputs": [
    {
     "data": {
      "text/plain": [
       "array([[287,  14],\n",
       "       [  1, 247]], dtype=int64)"
      ]
     },
     "execution_count": 27,
     "metadata": {},
     "output_type": "execute_result"
    }
   ],
   "source": [
    "confusion_matrix(y_test,y_pred)"
   ]
  },
  {
   "cell_type": "markdown",
   "id": "floating-omaha",
   "metadata": {},
   "source": [
    "## ROC curve\n"
   ]
  },
  {
   "cell_type": "code",
   "execution_count": 28,
   "id": "functioning-thong",
   "metadata": {},
   "outputs": [
    {
     "name": "stdout",
     "output_type": "stream",
     "text": [
      "[0.         0.         0.         0.00332226 0.01328904 0.0166113\n",
      " 0.0166113  0.02325581 0.03322259 0.03322259 0.03654485 0.04651163\n",
      " 0.04651163 0.04983389 0.06312292 1.        ] [0.         0.00403226 0.98387097 0.98387097 0.98387097 0.98387097\n",
      " 0.99193548 0.99193548 0.99193548 0.99596774 0.99596774 0.99596774\n",
      " 1.         1.         1.         1.        ]\n"
     ]
    }
   ],
   "source": [
    "threshold = 0.4\n",
    "scores = logreg.decision_function(X_test)\n",
    "fpr,tpr, threshold = roc_curve(y_test,scores,pos_label=1)\n",
    "print(fpr,tpr)"
   ]
  },
  {
   "cell_type": "code",
   "execution_count": 32,
   "id": "fitted-alert",
   "metadata": {},
   "outputs": [
    {
     "data": {
      "image/png": "[encoded data removed]",
      "text/plain": [
       "<Figure size 648x648 with 1 Axes>"
      ]
     },
     "metadata": {
      "needs_background": "light"
     },
     "output_type": "display_data"
    }
   ],
   "source": [
    "plt.figure(figsize=(9,9))\n",
    "plt.plot(fpr, tpr, label='Logistic Regression')\n",
    "plt.title('ROC curve', size=12)\n",
    "plt.xlabel('False Positive Rate', size=13)\n",
    "plt.ylabel('True Positive Rate', size=13)\n",
    "plt.plot((0, max(tpr)), 'k--', label='Random guess')\n",
    "plt.grid()\n",
    "plt.legend();"
   ]
  },
  {
   "cell_type": "markdown",
   "id": "chicken-silence",
   "metadata": {},
   "source": [
    "** From the above plot, we see the blue curve to be close to margins which tells us that our model is good. **"
   ]
  },
  {
   "cell_type": "markdown",
   "id": "intellectual-change",
   "metadata": {},
   "source": [
    "# DecisionTree Classifier"
   ]
  },
  {
   "cell_type": "code",
   "execution_count": 30,
   "id": "mexican-instrument",
   "metadata": {},
   "outputs": [],
   "source": [
    "from sklearn.model_selection import cross_val_score\n",
    "from sklearn.tree import DecisionTreeClassifier"
   ]
  },
  {
   "cell_type": "code",
   "execution_count": 31,
   "id": "vocational-toolbox",
   "metadata": {},
   "outputs": [],
   "source": [
    "clf = DecisionTreeClassifier()\n",
    "\n",
    "clf.fit(X_train,y_train)\n",
    "y_pred = clf.predict(X_test)"
   ]
  },
  {
   "cell_type": "markdown",
   "id": "metallic-cigarette",
   "metadata": {},
   "source": [
    "## Accuracy Scores\n"
   ]
  },
  {
   "cell_type": "code",
   "execution_count": 33,
   "id": "acute-russian",
   "metadata": {},
   "outputs": [
    {
     "name": "stdout",
     "output_type": "stream",
     "text": [
      "Accuracy for DecisionTreeClassifier Training Data is 0.9878493317132442 \n",
      "Accuracy for DecisionTreeClassifier Testing Data is 0.9836065573770492 \n"
     ]
    }
   ],
   "source": [
    "print(\"Accuracy for DecisionTreeClassifier Training Data is {} \".format(accuracy_score(y_train,logreg.predict(X_train))))\n",
    "print(\"Accuracy for DecisionTreeClassifier Testing Data is {} \".format(accuracy_score(y_test,y_pred)))"
   ]
  },
  {
   "cell_type": "code",
   "execution_count": 34,
   "id": "viral-syria",
   "metadata": {},
   "outputs": [
    {
     "data": {
      "text/plain": [
       "0.9839627631439756"
      ]
     },
     "execution_count": 34,
     "metadata": {},
     "output_type": "execute_result"
    }
   ],
   "source": [
    "cross_val_score(clf, X, y, cv=10, scoring=\"accuracy\").mean()"
   ]
  },
  {
   "cell_type": "markdown",
   "id": "executed-occupation",
   "metadata": {},
   "source": [
    "## Confusion Matrix"
   ]
  },
  {
   "cell_type": "code",
   "execution_count": 35,
   "id": "cosmetic-trading",
   "metadata": {},
   "outputs": [
    {
     "name": "stdout",
     "output_type": "stream",
     "text": [
      "[0.        0.0166113 1.       ] [0.         0.98387097 1.        ]\n"
     ]
    }
   ],
   "source": [
    "threshold = 0.4\n",
    "scores = clf.predict_proba(X_test)[:,1]\n",
    "fpr,tpr, threshold = roc_curve(y_test,scores,pos_label=1)\n",
    "print(fpr,tpr)"
   ]
  },
  {
   "cell_type": "code",
   "execution_count": 36,
   "id": "romance-shame",
   "metadata": {},
   "outputs": [
    {
     "data": {
      "image/png": "[encoded data removed]",
      "text/plain": [
       "<Figure size 648x648 with 1 Axes>"
      ]
     },
     "metadata": {
      "needs_background": "light"
     },
     "output_type": "display_data"
    }
   ],
   "source": [
    "plt.figure(figsize=(9,9))\n",
    "plt.plot(fpr, tpr, label='Decision Tree Classifier')\n",
    "plt.title('ROC curve', size=12)\n",
    "plt.xlabel('False Positive Rate', size=13)\n",
    "plt.ylabel('True Positive Rate', size=13)\n",
    "plt.plot((0, max(tpr)), 'k--', label='Random guess')\n",
    "plt.grid()\n",
    "plt.legend();"
   ]
  },
  {
   "cell_type": "markdown",
   "id": "turkish-permission",
   "metadata": {},
   "source": [
    "# Random Forest Classifier"
   ]
  },
  {
   "cell_type": "code",
   "execution_count": 37,
   "id": "impressed-finland",
   "metadata": {},
   "outputs": [],
   "source": [
    "from sklearn.ensemble import RandomForestClassifier, GradientBoostingClassifier"
   ]
  },
  {
   "cell_type": "code",
   "execution_count": 38,
   "id": "adjustable-brown",
   "metadata": {},
   "outputs": [],
   "source": [
    "rf = RandomForestClassifier(n_estimators=10000)\n",
    "rf.fit(X_train,y_train)\n",
    "y_pred = rf.predict(X_test)"
   ]
  },
  {
   "cell_type": "code",
   "execution_count": 39,
   "id": "corrected-supervision",
   "metadata": {},
   "outputs": [
    {
     "name": "stdout",
     "output_type": "stream",
     "text": [
      "Accuracy for RandomForestClassifier Training Data is 1.0 \n",
      "Accuracy for RandomForestClassifier Testing Data is 0.994535519125683 \n"
     ]
    }
   ],
   "source": [
    "print(\"Accuracy for RandomForestClassifier Training Data is {} \".format(accuracy_score(y_train,rf.predict(X_train))))\n",
    "print(\"Accuracy for RandomForestClassifier Testing Data is {} \".format(accuracy_score(y_test,y_pred)))"
   ]
  },
  {
   "cell_type": "markdown",
   "id": "optical-eugene",
   "metadata": {},
   "source": [
    "# Gradient Boosting Classifier"
   ]
  },
  {
   "cell_type": "code",
   "execution_count": 40,
   "id": "cathedral-crowd",
   "metadata": {},
   "outputs": [],
   "source": [
    "def stage_score_plot(params, X_train, y_train, X_test, y_test):\n",
    "    # instantiate the class\n",
    "    clf = GradientBoostingClassifier(**params)\n",
    "    # fit the model\n",
    "    clf.fit(X_train, y_train)\n",
    "    \n",
    "    # compute train and test set deviance\n",
    "    train_score = np.zeros((params['n_estimators'],), dtype=np.float64)\n",
    "    test_score = np.zeros((params['n_estimators'],), dtype=np.float64)\n",
    "    \n",
    "    for i, y_pred in enumerate(clf.staged_predict(X_train)):\n",
    "        train_score[i] = 1 - accuracy_score(y_train,y_pred)\n",
    "\n",
    "    for i, y_pred in enumerate(clf.staged_predict(X_test)):\n",
    "        test_score[i] = 1 - accuracy_score(y_test,y_pred)\n",
    "\n",
    "\n",
    "    # plot the num_iterations and MSE for both train and test score\n",
    "    plt.plot(np.arange(params['n_estimators']) + 1, train_score,\n",
    "             label=\" \".join(['GradientBoosting Train - learning rate',str(params['learning_rate'])]))\n",
    "    plt.plot(np.arange(params['n_estimators']) + 1, test_score,\n",
    "             label=\" \".join(['GradientBoosting Test - learning rate',str(params['learning_rate'])]))\n",
    "    \n",
    "    plt.legend()\n",
    "    plt.xlabel('Iterations')\n",
    "    plt.ylabel('Error')"
   ]
  },
  {
   "cell_type": "code",
   "execution_count": 41,
   "id": "published-dover",
   "metadata": {},
   "outputs": [
    {
     "data": {
      "image/png": "[encoded data removed]",
      "text/plain": [
       "<Figure size 432x288 with 1 Axes>"
      ]
     },
     "metadata": {
      "needs_background": "light"
     },
     "output_type": "display_data"
    }
   ],
   "source": [
    "params = {'n_estimators': 500, \n",
    "          'learning_rate': 0.1}\n",
    "stage_score_plot(params, X_train, y_train, X_test, y_test) \n",
    "plt.show()"
   ]
  },
  {
   "cell_type": "markdown",
   "id": "polyphonic-fifteen",
   "metadata": {},
   "source": [
    "## stage_score_plot function to make a plot that shows the error for gradient boosting with a learning rate of 0.1 and 1."
   ]
  },
  {
   "cell_type": "code",
   "execution_count": 42,
   "id": "amateur-bacteria",
   "metadata": {},
   "outputs": [
    {
     "data": {
      "image/png": "[encoded data removed]",
      "text/plain": [
       "<Figure size 432x288 with 1 Axes>"
      ]
     },
     "metadata": {
      "needs_background": "light"
     },
     "output_type": "display_data"
    }
   ],
   "source": [
    "params_01 = {'n_estimators': 500, \n",
    "          'learning_rate': 0.1}\n",
    "params_1 = {'n_estimators': 500, \n",
    "          'learning_rate': 1}\n",
    "plt.figure()\n",
    "stage_score_plot(params_01, X_train, y_train, X_test, y_test)    \n",
    "stage_score_plot(params_1, X_train, y_train, X_test, y_test)    \n",
    "\n",
    "plt.show()"
   ]
  },
  {
   "cell_type": "markdown",
   "id": "advanced-holocaust",
   "metadata": {},
   "source": [
    "## Use GridSearchCV for to find the best RandomForestClassifier"
   ]
  },
  {
   "cell_type": "code",
   "execution_count": 43,
   "id": "third-toyota",
   "metadata": {},
   "outputs": [],
   "source": [
    "from sklearn.model_selection import GridSearchCV"
   ]
  },
  {
   "cell_type": "code",
   "execution_count": 44,
   "id": "physical-carol",
   "metadata": {},
   "outputs": [
    {
     "name": "stdout",
     "output_type": "stream",
     "text": [
      "Fitting 5 folds for each of 216 candidates, totalling 1080 fits\n"
     ]
    },
    {
     "name": "stderr",
     "output_type": "stream",
     "text": [
      "c:\\users\\swarnava\\appdata\\local\\programs\\python\\python37\\lib\\site-packages\\sklearn\\model_selection\\_search.py:921: UserWarning: One or more of the test scores are non-finite: [       nan        nan 0.94774575 0.95016999 0.94774575 0.95016999\n",
      "        nan        nan 0.94774575 0.94895787 0.94774575 0.94895787\n",
      "        nan        nan 0.94895787 0.95017738 0.94895787 0.95017738\n",
      "        nan        nan 0.94774575 0.95016999 0.94774575 0.95016999\n",
      "        nan        nan 0.94774575 0.94895787 0.94774575 0.94895787\n",
      "        nan        nan 0.94895787 0.95017738 0.94895787 0.95017738\n",
      "        nan        nan 0.93923134 0.93801183 0.93923134 0.93801183\n",
      "        nan        nan 0.93801183 0.93679231 0.93801183 0.93679231\n",
      "        nan        nan 0.9367997  0.93558019 0.9367997  0.93558019\n",
      "        nan        nan 0.99271249 0.99149298 0.99149298 0.99149298\n",
      "        nan        nan 0.99027347 0.98783444 0.99027347 0.98783444\n",
      "        nan        nan 0.99027347 0.98783444 0.99027347 0.98783444\n",
      "        nan        nan 0.99271249 0.99149298 0.99149298 0.99149298\n",
      "        nan        nan 0.99027347 0.98783444 0.99027347 0.98783444\n",
      "        nan        nan 0.99027347 0.98783444 0.99027347 0.98783444\n",
      "        nan        nan 0.99028825 0.99028825 0.98906874 0.99028825\n",
      "        nan        nan 0.98784922 0.99028086 0.98784922 0.99028086\n",
      "        nan        nan 0.98662971 0.98785661 0.98662971 0.98785661\n",
      "        nan        nan 0.93315595 0.93801922 0.93315595 0.93801922\n",
      "        nan        nan 0.93315595 0.93801922 0.93315595 0.93801922\n",
      "        nan        nan 0.93193644 0.9367997  0.93193644 0.9367997\n",
      "        nan        nan 0.93315595 0.93801922 0.93315595 0.93801922\n",
      "        nan        nan 0.93315595 0.93801922 0.93315595 0.93801922\n",
      "        nan        nan 0.93193644 0.9367997  0.93193644 0.9367997\n",
      "        nan        nan 0.92830746 0.92830746 0.92830746 0.92830746\n",
      "        nan        nan 0.92830746 0.92830746 0.92830746 0.92830746\n",
      "        nan        nan 0.92709534 0.92709534 0.92709534 0.92709534\n",
      "        nan        nan 0.98906874 0.98785661 0.98785661 0.98785661\n",
      "        nan        nan 0.99028086 0.99149298 0.99028086 0.99149298\n",
      "        nan        nan 0.98541759 0.9854102  0.98541759 0.9854102\n",
      "        nan        nan 0.98906874 0.98785661 0.98785661 0.98785661\n",
      "        nan        nan 0.99028086 0.99149298 0.99028086 0.99149298\n",
      "        nan        nan 0.98541759 0.9854102  0.98541759 0.9854102\n",
      "        nan        nan 0.97813747 0.97813008 0.97813747 0.97813008\n",
      "        nan        nan 0.98177384 0.98177384 0.98177384 0.98177384\n",
      "        nan        nan 0.97813747 0.97813747 0.97813747 0.97813747]\n",
      "  category=UserWarning\n"
     ]
    },
    {
     "data": {
      "text/plain": [
       "GridSearchCV(estimator=RandomForestClassifier(), n_jobs=-1,\n",
       "             param_grid={'bootstrap': [True, False], 'max_depth': [3, None],\n",
       "                         'max_features': ['sqrt', 'log2', None],\n",
       "                         'min_samples_leaf': [1, 2, 4],\n",
       "                         'min_samples_split': [1, 2, 4],\n",
       "                         'n_estimators': [100, 500], 'random_state': [1]},\n",
       "             scoring='accuracy', verbose=True)"
      ]
     },
     "execution_count": 44,
     "metadata": {},
     "output_type": "execute_result"
    }
   ],
   "source": [
    "random_forest_grid = {'max_depth': [3, None],\n",
    "                      'max_features': ['sqrt', 'log2', None],\n",
    "                      'min_samples_split': [1, 2, 4],\n",
    "                      'min_samples_leaf': [1, 2, 4],\n",
    "                      'bootstrap': [True, False],\n",
    "                      'n_estimators': [100, 500],\n",
    "                      'random_state': [1]}\n",
    "\n",
    "rf_gridsearch = GridSearchCV(RandomForestClassifier(),\n",
    "                             random_forest_grid,\n",
    "                             n_jobs=-1,\n",
    "                             verbose=True,\n",
    "                             scoring='accuracy')\n",
    "rf_gridsearch.fit(X_train, y_train)"
   ]
  },
  {
   "cell_type": "markdown",
   "id": "paperback-vaccine",
   "metadata": {},
   "source": [
    "## Fitting the model with best parameters obtained by GridSearchCV on RandomForestClassifier"
   ]
  },
  {
   "cell_type": "code",
   "execution_count": 45,
   "id": "legendary-angel",
   "metadata": {},
   "outputs": [
    {
     "name": "stdout",
     "output_type": "stream",
     "text": [
      "best parameters: {'bootstrap': True, 'max_depth': None, 'max_features': 'sqrt', 'min_samples_leaf': 1, 'min_samples_split': 2, 'n_estimators': 100, 'random_state': 1}\n"
     ]
    },
    {
     "data": {
      "text/plain": [
       "RandomForestClassifier(max_features='sqrt', random_state=1)"
      ]
     },
     "execution_count": 45,
     "metadata": {},
     "output_type": "execute_result"
    }
   ],
   "source": [
    "print(\"best parameters:\", rf_gridsearch.best_params_)\n",
    "\n",
    "best_rf_model = rf_gridsearch.best_estimator_\n",
    "best_rf_model.fit(X_train,y_train)"
   ]
  },
  {
   "cell_type": "markdown",
   "id": "lovely-drunk",
   "metadata": {},
   "source": [
    "## Accuracy for RandomForestClassifier"
   ]
  },
  {
   "cell_type": "code",
   "execution_count": 46,
   "id": "smart-pharmaceutical",
   "metadata": {},
   "outputs": [
    {
     "name": "stdout",
     "output_type": "stream",
     "text": [
      "Random Forest Testing Accuracy Score: 0.9963570127504554 \n"
     ]
    }
   ],
   "source": [
    "print(\"Random Forest Testing Accuracy Score: {} \".format(best_rf_model.score(X_test,y_test)))"
   ]
  },
  {
   "cell_type": "markdown",
   "id": "statewide-cartridge",
   "metadata": {},
   "source": [
    "## Confusion Matrix"
   ]
  },
  {
   "cell_type": "code",
   "execution_count": 47,
   "id": "corrected-circumstances",
   "metadata": {},
   "outputs": [
    {
     "data": {
      "text/plain": [
       "array([[299,   2],\n",
       "       [  0, 248]], dtype=int64)"
      ]
     },
     "execution_count": 47,
     "metadata": {},
     "output_type": "execute_result"
    }
   ],
   "source": [
    "y_pred = best_rf_model.predict(X_test)\n",
    "confusion_matrix(y_test,y_pred)"
   ]
  },
  {
   "cell_type": "markdown",
   "id": "residential-exchange",
   "metadata": {},
   "source": [
    "## ROC Curve"
   ]
  },
  {
   "cell_type": "code",
   "execution_count": 48,
   "id": "accurate-motel",
   "metadata": {},
   "outputs": [
    {
     "name": "stdout",
     "output_type": "stream",
     "text": [
      "[0.         0.         0.         0.         0.         0.\n",
      " 0.         0.         0.         0.         0.         0.\n",
      " 0.         0.         0.         0.00664452 0.00664452 0.0166113\n",
      " 0.02990033 0.03322259 0.03986711 0.05315615 0.0730897  0.08637874\n",
      " 0.09966777 0.11627907 0.12624585 0.12956811 0.1461794  0.17607973\n",
      " 0.22591362 0.29900332 0.43189369 1.        ] [0.         0.45967742 0.64112903 0.72177419 0.77016129 0.83870968\n",
      " 0.85080645 0.87096774 0.88709677 0.91129032 0.92741935 0.93951613\n",
      " 0.94354839 0.96774194 0.99193548 0.99193548 1.         1.\n",
      " 1.         1.         1.         1.         1.         1.\n",
      " 1.         1.         1.         1.         1.         1.\n",
      " 1.         1.         1.         1.        ]\n"
     ]
    }
   ],
   "source": [
    "threshold = 0.4\n",
    "scores = best_rf_model.predict_proba(X_test)[:,1]\n",
    "fpr,tpr, threshold = roc_curve(y_test,scores,pos_label=1)\n",
    "print(fpr,tpr)"
   ]
  },
  {
   "cell_type": "code",
   "execution_count": 49,
   "id": "centered-guinea",
   "metadata": {},
   "outputs": [
    {
     "data": {
      "image/png": "[encoded data removed]",
      "text/plain": [
       "<Figure size 648x648 with 1 Axes>"
      ]
     },
     "metadata": {
      "needs_background": "light"
     },
     "output_type": "display_data"
    }
   ],
   "source": [
    "plt.figure(figsize=(9,9))\n",
    "plt.plot(fpr, tpr, label='Random Forest Classifier')\n",
    "plt.title('ROC curve', size=12)\n",
    "plt.xlabel('False Positive Rate', size=13)\n",
    "plt.ylabel('True Positive Rate', size=13)\n",
    "plt.plot((0, max(tpr)), 'k--', label='Random guess')\n",
    "plt.grid()\n",
    "plt.legend();"
   ]
  },
  {
   "cell_type": "markdown",
   "id": "naughty-eating",
   "metadata": {},
   "source": [
    "## Use GridSearchCV for to find the best GradientBoostingClassifier"
   ]
  },
  {
   "cell_type": "code",
   "execution_count": 51,
   "id": "advanced-shirt",
   "metadata": {},
   "outputs": [
    {
     "name": "stdout",
     "output_type": "stream",
     "text": [
      "Fitting 5 folds for each of 72 candidates, totalling 360 fits\n"
     ]
    },
    {
     "data": {
      "text/plain": [
       "GridSearchCV(estimator=GradientBoostingClassifier(), n_jobs=-1,\n",
       "             param_grid={'learning_rate': [0.05, 0.02, 0.01],\n",
       "                         'max_depth': [4, 5, 6, 7], 'max_features': ['auto'],\n",
       "                         'min_samples_leaf': [7, 9, 13],\n",
       "                         'n_estimators': [100, 500]},\n",
       "             scoring='accuracy', verbose=True)"
      ]
     },
     "execution_count": 51,
     "metadata": {},
     "output_type": "execute_result"
    }
   ],
   "source": [
    "gradient_boost_grid = {'learning_rate':[0.05, 0.02, 0.01],\n",
    "                       'max_depth':[4, 5, 6, 7],\n",
    "                       'min_samples_leaf':[7, 9, 13],\n",
    "                       'max_features':['auto'],\n",
    "                       'n_estimators':[100,500]}\n",
    "\n",
    "gradient_boost_gridsearch = GridSearchCV(GradientBoostingClassifier(),\n",
    "                             gradient_boost_grid,\n",
    "                             n_jobs=-1,\n",
    "                             verbose=True,\n",
    "                             scoring='accuracy')\n",
    "gradient_boost_gridsearch.fit(X_train, y_train)"
   ]
  },
  {
   "cell_type": "markdown",
   "id": "placed-audience",
   "metadata": {},
   "source": [
    "## Fitting the model with best parameters obtained by GridSearchCV on GradientBoostingClassifier"
   ]
  },
  {
   "cell_type": "code",
   "execution_count": 52,
   "id": "imperial-recipient",
   "metadata": {},
   "outputs": [
    {
     "name": "stdout",
     "output_type": "stream",
     "text": [
      "best parameters: {'learning_rate': 0.05, 'max_depth': 7, 'max_features': 'auto', 'min_samples_leaf': 13, 'n_estimators': 500}\n"
     ]
    },
    {
     "data": {
      "text/plain": [
       "GradientBoostingClassifier(learning_rate=0.05, max_depth=7, max_features='auto',\n",
       "                           min_samples_leaf=13, n_estimators=500)"
      ]
     },
     "execution_count": 52,
     "metadata": {},
     "output_type": "execute_result"
    }
   ],
   "source": [
    "print(\"best parameters:\", gradient_boost_gridsearch.best_params_)\n",
    "\n",
    "best_gradient_boost_model = gradient_boost_gridsearch.best_estimator_\n",
    "best_gradient_boost_model.fit(X_train,y_train)"
   ]
  },
  {
   "cell_type": "markdown",
   "id": "funded-summer",
   "metadata": {},
   "source": [
    "## Accuracy for GradientBoostingClassifier"
   ]
  },
  {
   "cell_type": "code",
   "execution_count": 53,
   "id": "diagnostic-buying",
   "metadata": {},
   "outputs": [
    {
     "name": "stdout",
     "output_type": "stream",
     "text": [
      "Gradient Boosting Accuracy Score: 0.9981785063752276 \n"
     ]
    }
   ],
   "source": [
    "print(\"Gradient Boosting Accuracy Score: {} \".format(best_gradient_boost_model.score(X_test,y_test)))"
   ]
  },
  {
   "cell_type": "markdown",
   "id": "defined-ready",
   "metadata": {},
   "source": [
    "## Confusion Matrix"
   ]
  },
  {
   "cell_type": "code",
   "execution_count": 54,
   "id": "gentle-assets",
   "metadata": {},
   "outputs": [
    {
     "data": {
      "text/plain": [
       "array([[300,   1],\n",
       "       [  0, 248]], dtype=int64)"
      ]
     },
     "execution_count": 54,
     "metadata": {},
     "output_type": "execute_result"
    }
   ],
   "source": [
    "y_pred = best_gradient_boost_model.predict(X_test)\n",
    "confusion_matrix(y_test,y_pred)"
   ]
  },
  {
   "cell_type": "markdown",
   "id": "french-latino",
   "metadata": {},
   "source": [
    "## ROC Curve"
   ]
  },
  {
   "cell_type": "code",
   "execution_count": 55,
   "id": "intensive-newman",
   "metadata": {},
   "outputs": [
    {
     "name": "stdout",
     "output_type": "stream",
     "text": [
      "[0.         0.         0.         0.         0.         0.\n",
      " 0.         0.         0.         0.         0.         0.\n",
      " 0.         0.         0.         0.05980066 0.0730897  0.07973422\n",
      " 0.09302326 0.11295681 0.12624585 0.16943522 0.17607973 0.18936877\n",
      " 0.19601329 0.2192691  0.22591362 0.24252492 0.24916944 0.27242525\n",
      " 0.27906977 0.3255814  0.33222591 0.3820598  0.38870432 1.        ] [0.         0.00403226 0.05645161 0.06451613 0.49596774 0.50403226\n",
      " 0.56854839 0.5766129  0.69354839 0.7016129  0.74193548 0.75\n",
      " 0.85887097 0.86693548 1.         1.         1.         1.\n",
      " 1.         1.         1.         1.         1.         1.\n",
      " 1.         1.         1.         1.         1.         1.\n",
      " 1.         1.         1.         1.         1.         1.        ]\n"
     ]
    }
   ],
   "source": [
    "threshold = 0.4\n",
    "scores = best_gradient_boost_model.decision_function(X_test)\n",
    "fpr,tpr, threshold = roc_curve(y_test,scores,pos_label=1)\n",
    "print(fpr,tpr)"
   ]
  },
  {
   "cell_type": "code",
   "execution_count": 56,
   "id": "embedded-argentina",
   "metadata": {},
   "outputs": [
    {
     "data": {
      "image/png": "[encoded data removed]",
      "text/plain": [
       "<Figure size 648x648 with 1 Axes>"
      ]
     },
     "metadata": {
      "needs_background": "light"
     },
     "output_type": "display_data"
    }
   ],
   "source": [
    "plt.figure(figsize=(9,9))\n",
    "plt.plot(fpr, tpr, label='Gradient Boosting Classifier')\n",
    "plt.title('ROC curve', size=12)\n",
    "plt.xlabel('False Positive Rate', size=13)\n",
    "plt.ylabel('True Positive Rate', size=13)\n",
    "plt.plot((0, max(tpr)), 'k--', label='Random guess')\n",
    "plt.grid()\n",
    "plt.legend();"
   ]
  },
  {
   "cell_type": "markdown",
   "id": "breathing-property",
   "metadata": {},
   "source": [
    "## From above ensemble methods, we see that GradientBoostingClassifer gives us better accuracy results than RandomForestClassifier and DecisionTreeClassifier."
   ]
  },
  {
   "cell_type": "markdown",
   "id": "first-porter",
   "metadata": {},
   "source": [
    "# Naive Bayes Classifier"
   ]
  },
  {
   "cell_type": "code",
   "execution_count": 57,
   "id": "mysterious-reserve",
   "metadata": {},
   "outputs": [],
   "source": [
    "from sklearn.naive_bayes import BernoulliNB, MultinomialNB"
   ]
  },
  {
   "cell_type": "markdown",
   "id": "retired-jewel",
   "metadata": {},
   "source": [
    "## Bernoulli Naive Bayes"
   ]
  },
  {
   "cell_type": "code",
   "execution_count": 58,
   "id": "sustained-struggle",
   "metadata": {},
   "outputs": [
    {
     "name": "stdout",
     "output_type": "stream",
     "text": [
      "Bernoulli Accuracy:  0.8440071934835502\n"
     ]
    }
   ],
   "source": [
    "sk_bb = BernoulliNB()\n",
    "sk_bb.fit(X_train,y_train)\n",
    "acc = cross_val_score(sk_bb, X, y, cv=10, scoring=\"accuracy\")\n",
    "print(\"Bernoulli Accuracy: \", np.mean(acc))"
   ]
  },
  {
   "cell_type": "markdown",
   "id": "cheap-portal",
   "metadata": {},
   "source": [
    "## Confusion Matrix\n"
   ]
  },
  {
   "cell_type": "code",
   "execution_count": 59,
   "id": "federal-jersey",
   "metadata": {},
   "outputs": [
    {
     "data": {
      "text/plain": [
       "array([[244,  57],\n",
       "       [ 26, 222]], dtype=int64)"
      ]
     },
     "execution_count": 59,
     "metadata": {},
     "output_type": "execute_result"
    }
   ],
   "source": [
    "y_pred = sk_bb.predict(X_test)\n",
    "confusion_matrix(y_test,y_pred)"
   ]
  },
  {
   "cell_type": "markdown",
   "id": "suspended-warehouse",
   "metadata": {},
   "source": [
    "## ROC Curve"
   ]
  },
  {
   "cell_type": "code",
   "execution_count": 60,
   "id": "mexican-housing",
   "metadata": {},
   "outputs": [
    {
     "name": "stdout",
     "output_type": "stream",
     "text": [
      "[0.         0.00664452 0.04318937 0.04318937 0.05647841 0.10963455\n",
      " 0.12292359 0.17940199 0.18936877 0.19269103 0.45182724 0.51827243\n",
      " 0.52159468 0.56478405 0.77740864 1.        ] [0.         0.06451613 0.41129032 0.43548387 0.61693548 0.61693548\n",
      " 0.61693548 0.85887097 0.89516129 0.89516129 0.89919355 0.9233871\n",
      " 0.9233871  0.9233871  0.98790323 1.        ]\n"
     ]
    }
   ],
   "source": [
    "threshold = 0.4\n",
    "scores = sk_bb.predict_proba(X_test)[:,1]\n",
    "fpr,tpr, threshold = roc_curve(y_test,scores,pos_label=1)\n",
    "print(fpr,tpr)"
   ]
  },
  {
   "cell_type": "code",
   "execution_count": 61,
   "id": "sharp-administration",
   "metadata": {},
   "outputs": [
    {
     "data": {
      "image/png": "[encoded data removed]",
      "text/plain": [
       "<Figure size 648x648 with 1 Axes>"
      ]
     },
     "metadata": {
      "needs_background": "light"
     },
     "output_type": "display_data"
    }
   ],
   "source": [
    "plt.figure(figsize=(9,9))\n",
    "plt.plot(fpr, tpr, label='Bernoulli NB')\n",
    "plt.title('ROC curve', size=12)\n",
    "plt.xlabel('False Positive Rate', size=13)\n",
    "plt.ylabel('True Positive Rate', size=13)\n",
    "plt.plot((0, max(tpr)), 'k--', label='Random guess')\n",
    "plt.grid()\n",
    "plt.legend();"
   ]
  },
  {
   "cell_type": "markdown",
   "id": "demonstrated-merit",
   "metadata": {},
   "source": [
    "# SVM Classifier\n"
   ]
  },
  {
   "cell_type": "code",
   "execution_count": 62,
   "id": "eligible-paper",
   "metadata": {},
   "outputs": [],
   "source": [
    "## helper functions"
   ]
  },
  {
   "cell_type": "code",
   "execution_count": 63,
   "id": "annual-elements",
   "metadata": {},
   "outputs": [],
   "source": [
    "def decision_boundary(clf, X, Y, h=.02):\n",
    "    \"\"\"Inputs:\n",
    "        clf - a trained classifier, with a predict method\n",
    "    \"\"\"\n",
    "    # Plot the decision boundary. For that, we will assign a color to each\n",
    "    # point in the mesh [x_min, m_max]x[y_min, y_max].\n",
    "    x_min, x_max = X[:, 0].min() - .5, X[:, 0].max() + .5\n",
    "    y_min, y_max = X[:, 1].min() - .5, X[:, 1].max() + .5\n",
    "    xx, yy = np.meshgrid(np.arange(x_min, x_max, h), np.arange(y_min, y_max, h))\n",
    "    Z = clf.predict(np.c_[xx.ravel(), yy.ravel()])\n",
    "\n",
    "    # Put the result into a color plot\n",
    "    Z = Z.reshape(xx.shape)\n",
    "    plt.figure(1, figsize=(4, 3))\n",
    "    plt.pcolormesh(xx, yy, Z, cmap=plt.cm.Paired)\n",
    "\n",
    "    # Plot also the training points\n",
    "    plt.scatter(X[:, 0], X[:, 1], c=Y, edgecolors='k', cmap=plt.cm.Paired)\n",
    "\n",
    "    plt.xlim(xx.min(), xx.max())\n",
    "    plt.ylim(yy.min(), yy.max())\n",
    "    plt.xticks(())\n",
    "    plt.yticks(())\n",
    "    plt.show()"
   ]
  },
  {
   "cell_type": "code",
   "execution_count": 64,
   "id": "sorted-falls",
   "metadata": {},
   "outputs": [],
   "source": [
    "from sklearn.svm import SVC"
   ]
  },
  {
   "cell_type": "code",
   "execution_count": 65,
   "id": "environmental-terminology",
   "metadata": {},
   "outputs": [
    {
     "data": {
      "text/plain": [
       "SVC()"
      ]
     },
     "execution_count": 65,
     "metadata": {},
     "output_type": "execute_result"
    }
   ],
   "source": [
    "X_train = X_train[:,:2]\n",
    "X_test = X_test[:,:2]\n",
    "SVM = SVC()\n",
    "SVM.fit(X_train,y_train)"
   ]
  },
  {
   "cell_type": "code",
   "execution_count": 66,
   "id": "italic-statistics",
   "metadata": {},
   "outputs": [
    {
     "data": {
      "text/plain": [
       "0.912568306010929"
      ]
     },
     "execution_count": 66,
     "metadata": {},
     "output_type": "execute_result"
    }
   ],
   "source": [
    "accuracy_score(SVM.predict(X_test),y_test)"
   ]
  },
  {
   "cell_type": "code",
   "execution_count": 67,
   "id": "employed-content",
   "metadata": {},
   "outputs": [
    {
     "name": "stderr",
     "output_type": "stream",
     "text": [
      "c:\\users\\swarnava\\appdata\\local\\programs\\python\\python37\\lib\\site-packages\\ipykernel_launcher.py:15: MatplotlibDeprecationWarning: shading='flat' when X and Y have the same dimensions as C is deprecated since 3.3.  Either specify the corners of the quadrilaterals with X and Y, or pass shading='auto', 'nearest' or 'gouraud', or set rcParams['pcolor.shading'].  This will become an error two minor releases later.\n",
      "  from ipykernel import kernelapp as app\n"
     ]
    },
    {
     "data": {
      "image/png": "[encoded data removed]",
      "text/plain": [
       "<Figure size 288x216 with 1 Axes>"
      ]
     },
     "metadata": {},
     "output_type": "display_data"
    }
   ],
   "source": [
    "decision_boundary(SVM, X[:,:2],y)"
   ]
  },
  {
   "cell_type": "markdown",
   "id": "unlike-letter",
   "metadata": {},
   "source": [
    "## Using GridSearchCV to find best parameters for SVC"
   ]
  },
  {
   "cell_type": "code",
   "execution_count": 68,
   "id": "instrumental-company",
   "metadata": {},
   "outputs": [
    {
     "name": "stdout",
     "output_type": "stream",
     "text": [
      "Fitting 5 folds for each of 12 candidates, totalling 60 fits\n"
     ]
    },
    {
     "data": {
      "text/plain": [
       "GridSearchCV(estimator=SVC(), n_jobs=-1,\n",
       "             param_grid={'C': [4, 5, 6, 10], 'gamma': ['auto'],\n",
       "                         'kernel': ['rbf', 'poly', 'linear']},\n",
       "             scoring='accuracy', verbose=True)"
      ]
     },
     "execution_count": 68,
     "metadata": {},
     "output_type": "execute_result"
    }
   ],
   "source": [
    "svm_grid = {'kernel':['rbf','poly','linear'],\n",
    "                       'C':[4, 5, 6,10],\n",
    "                       'gamma':['auto']}\n",
    "\n",
    "svm_gridsearch = GridSearchCV(SVC(),\n",
    "                             svm_grid,\n",
    "                             n_jobs=-1,\n",
    "                             verbose=True,\n",
    "                             scoring='accuracy')\n",
    "svm_gridsearch.fit(X_train, y_train)"
   ]
  },
  {
   "cell_type": "code",
   "execution_count": 69,
   "id": "fifteen-melissa",
   "metadata": {},
   "outputs": [
    {
     "name": "stdout",
     "output_type": "stream",
     "text": [
      "best parameters: {'C': 6, 'gamma': 'auto', 'kernel': 'rbf'}\n"
     ]
    },
    {
     "data": {
      "text/plain": [
       "SVC(C=6, gamma='auto')"
      ]
     },
     "execution_count": 69,
     "metadata": {},
     "output_type": "execute_result"
    }
   ],
   "source": [
    "print(\"best parameters:\", svm_gridsearch.best_params_)\n",
    "\n",
    "best_svm_model = svm_gridsearch.best_estimator_\n",
    "best_svm_model.fit(X_train,y_train)"
   ]
  },
  {
   "cell_type": "code",
   "execution_count": 70,
   "id": "covered-korean",
   "metadata": {},
   "outputs": [
    {
     "data": {
      "text/plain": [
       "0.930783242258652"
      ]
     },
     "execution_count": 70,
     "metadata": {},
     "output_type": "execute_result"
    }
   ],
   "source": [
    "accuracy_score(best_svm_model.predict(X_test),y_test)"
   ]
  },
  {
   "cell_type": "code",
   "execution_count": 71,
   "id": "transsexual-source",
   "metadata": {},
   "outputs": [
    {
     "name": "stderr",
     "output_type": "stream",
     "text": [
      "c:\\users\\swarnava\\appdata\\local\\programs\\python\\python37\\lib\\site-packages\\ipykernel_launcher.py:15: MatplotlibDeprecationWarning: shading='flat' when X and Y have the same dimensions as C is deprecated since 3.3.  Either specify the corners of the quadrilaterals with X and Y, or pass shading='auto', 'nearest' or 'gouraud', or set rcParams['pcolor.shading'].  This will become an error two minor releases later.\n",
      "  from ipykernel import kernelapp as app\n"
     ]
    },
    {
     "data": {
      "image/png": "[encoded data removed]",
      "text/plain": [
       "<Figure size 288x216 with 1 Axes>"
      ]
     },
     "metadata": {},
     "output_type": "display_data"
    }
   ],
   "source": [
    "decision_boundary(best_svm_model,X[:,:2],y)"
   ]
  },
  {
   "cell_type": "markdown",
   "id": "still-determination",
   "metadata": {},
   "source": [
    "## Confusion Matrix"
   ]
  },
  {
   "cell_type": "code",
   "execution_count": 72,
   "id": "solid-bernard",
   "metadata": {},
   "outputs": [
    {
     "data": {
      "text/plain": [
       "array([[268,  33],\n",
       "       [  5, 243]], dtype=int64)"
      ]
     },
     "execution_count": 72,
     "metadata": {},
     "output_type": "execute_result"
    }
   ],
   "source": [
    "y_pred = best_svm_model.predict(X_test)\n",
    "confusion_matrix(y_test,y_pred)"
   ]
  },
  {
   "cell_type": "markdown",
   "id": "patient-signal",
   "metadata": {},
   "source": [
    "## ROC Curve"
   ]
  },
  {
   "cell_type": "code",
   "execution_count": 74,
   "id": "bizarre-harris",
   "metadata": {},
   "outputs": [
    {
     "name": "stdout",
     "output_type": "stream",
     "text": [
      "[0.         0.         0.         0.00332226 0.00332226 0.00664452\n",
      " 0.00664452 0.00996678 0.00996678 0.01328904 0.01328904 0.0166113\n",
      " 0.0166113  0.01993355 0.01993355 0.02990033 0.03322259 0.03322259\n",
      " 0.03654485 0.03654485 0.03986711 0.03986711 0.04318937 0.04318937\n",
      " 0.04651163 0.04651163 0.04983389 0.04983389 0.05315615 0.05315615\n",
      " 0.05647841 0.05647841 0.06644518 0.06976744 0.06976744 0.07973422\n",
      " 0.07973422 0.08305648 0.08305648 0.09634551 0.09634551 0.10631229\n",
      " 0.10631229 0.10963455 0.10963455 0.12956811 0.13953488 0.1461794\n",
      " 0.1461794  0.15282392 0.15282392 0.15946844 0.15946844 0.16943522\n",
      " 0.16943522 0.19269103 0.19933555 0.22259136 0.22259136 0.26578073\n",
      " 0.27242525 1.        ] [0.         0.00403226 0.33064516 0.33064516 0.33870968 0.33870968\n",
      " 0.35887097 0.35887097 0.47580645 0.47580645 0.49193548 0.49193548\n",
      " 0.52016129 0.52016129 0.64919355 0.64919355 0.64919355 0.68548387\n",
      " 0.68548387 0.7016129  0.7016129  0.72580645 0.72580645 0.74193548\n",
      " 0.74193548 0.85483871 0.85483871 0.89112903 0.89112903 0.89919355\n",
      " 0.89919355 0.90725806 0.90725806 0.90725806 0.91129032 0.91129032\n",
      " 0.91532258 0.91532258 0.93548387 0.93548387 0.94758065 0.94758065\n",
      " 0.95564516 0.95564516 0.97983871 0.97983871 0.97983871 0.97983871\n",
      " 0.98387097 0.98387097 0.98790323 0.98790323 0.99193548 0.99193548\n",
      " 0.99596774 0.99596774 0.99596774 0.99596774 1.         1.\n",
      " 1.         1.        ]\n"
     ]
    }
   ],
   "source": [
    "threshold = 0.4\n",
    "scores = best_svm_model.decision_function(X_test)\n",
    "fpr,tpr, threshold = roc_curve(y_test,scores,pos_label=1)\n",
    "print(fpr,tpr)"
   ]
  },
  {
   "cell_type": "code",
   "execution_count": 75,
   "id": "meaning-international",
   "metadata": {},
   "outputs": [
    {
     "data": {
      "image/png": "[encoded data removed]",
      "text/plain": [
       "<Figure size 648x648 with 1 Axes>"
      ]
     },
     "metadata": {
      "needs_background": "light"
     },
     "output_type": "display_data"
    }
   ],
   "source": [
    "plt.figure(figsize=(9,9))\n",
    "plt.plot(fpr, tpr, label='SVM')\n",
    "plt.title('ROC curve', size=12)\n",
    "plt.xlabel('False Positive Rate', size=13)\n",
    "plt.ylabel('True Positive Rate', size=13)\n",
    "plt.plot((0, max(tpr)), 'k--', label='Random guess')\n",
    "plt.grid()\n",
    "plt.legend();"
   ]
  },
  {
   "cell_type": "markdown",
   "id": "blocked-peoples",
   "metadata": {},
   "source": [
    "# Conclusion"
   ]
  },
  {
   "cell_type": "markdown",
   "id": "accurate-exposure",
   "metadata": {},
   "source": [
    "Models - Accuracy \n",
    "\n",
    "KNN - 0.9981785063752276\n",
    "\n",
    "Logistic Regression - 0.9726775956284153\n",
    "\n",
    "Decision Tree Classifier - 0.98249761980323724\n",
    "\n",
    "Random Forest Classifier - 0.9963570127504554\n",
    "\n",
    "Gradient Boosting Classifier - 0.9908925318761385\n",
    "\n",
    "Bernoulli NB - 0.844007193484\n",
    "\n",
    "SVC - 0.93078324225865205"
   ]
  },
  {
   "cell_type": "markdown",
   "id": "least-frank",
   "metadata": {},
   "source": [
    "# ** We can see from above results, KNN works best for classification of real and fake bank notes **"
   ]
  }
 ],
 "metadata": {
  "kernelspec": {
   "display_name": "Python 3",
   "language": "python",
   "name": "python3"
  },
  "language_info": {
   "codemirror_mode": {
    "name": "ipython",
    "version": 3
   },
   "file_extension": ".py",
   "mimetype": "text/x-python",
   "name": "python",
   "nbconvert_exporter": "python",
   "pygments_lexer": "ipython3",
   "version": "3.7.3"
  }
 },
 "nbformat": 4,
 "nbformat_minor": 5
}
